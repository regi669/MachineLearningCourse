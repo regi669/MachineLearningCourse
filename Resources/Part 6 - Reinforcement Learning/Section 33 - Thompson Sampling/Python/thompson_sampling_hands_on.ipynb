{
 "nbformat": 4,
 "nbformat_minor": 0,
 "metadata": {
  "colab": {
   "name": "Thompson Sampling",
   "provenance": [],
   "collapsed_sections": [],
   "toc_visible": true,
   "authorship_tag": "ABX9TyPYgZhJufkFAsCxlwVcjHND"
  },
  "kernelspec": {
   "name": "python3",
   "language": "python",
   "display_name": "Python 3 (ipykernel)"
  }
 },
 "cells": [
  {
   "cell_type": "markdown",
   "metadata": {
    "id": "vPKTIRAtx232",
    "colab_type": "text"
   },
   "source": [
    "# Thompson Sampling"
   ]
  },
  {
   "cell_type": "markdown",
   "metadata": {
    "id": "PqPv9zpAx-EE",
    "colab_type": "text"
   },
   "source": [
    "## Importing the libraries"
   ]
  },
  {
   "cell_type": "code",
   "metadata": {
    "id": "lozuE-Fhx_QB",
    "colab_type": "code",
    "colab": {}
   },
   "source": [
    "import numpy as np\n",
    "import matplotlib.pyplot as plt\n",
    "import pandas as pd\n",
    "import math\n",
    "import random"
   ],
   "execution_count": 328,
   "outputs": []
  },
  {
   "cell_type": "markdown",
   "metadata": {
    "id": "iqpVk5HhyGmO",
    "colab_type": "text"
   },
   "source": [
    "## Importing the dataset"
   ]
  },
  {
   "cell_type": "code",
   "metadata": {
    "id": "kY4zzW4hyNfA",
    "colab_type": "code",
    "colab": {}
   },
   "source": [
    "dataset = pd.read_csv('Ads_CTR_Optimisation.csv')"
   ],
   "execution_count": 329,
   "outputs": []
  },
  {
   "cell_type": "markdown",
   "metadata": {
    "id": "WqoXeWOYyQhB",
    "colab_type": "text"
   },
   "source": [
    "## Implementing Thompson Sampling"
   ]
  },
  {
   "cell_type": "code",
   "metadata": {
    "id": "PCiHv51pyUII",
    "colab_type": "code",
    "colab": {}
   },
   "source": [
    "N = len(dataset)\n",
    "d = len(dataset.values[0])\n",
    "number_of_rewards_1 = [0] * d\n",
    "number_of_rewards_0 = [0] * d\n",
    "ads_selected = []\n",
    "total_reward = 0\n",
    "for n in range(N):\n",
    "    ad = 0\n",
    "    max_random = 0\n",
    "    for i in range(d):\n",
    "        random_draw = random.betavariate(number_of_rewards_1[i] + 1, number_of_rewards_0[i] + 1)\n",
    "        if random_draw > max_random:\n",
    "            max_random = random_draw\n",
    "            ad = i\n",
    "    reward = dataset.values[n, ad]\n",
    "    total_reward += reward\n",
    "    if reward == 1:\n",
    "        number_of_rewards_1[ad] += 1\n",
    "    else:\n",
    "        number_of_rewards_0[ad] += 1\n",
    "    ads_selected.append(ad)"
   ],
   "execution_count": 330,
   "outputs": []
  },
  {
   "cell_type": "markdown",
   "metadata": {
    "id": "tweWsgTHyXhv",
    "colab_type": "text"
   },
   "source": [
    "## Visualising the results - Histogram"
   ]
  },
  {
   "cell_type": "code",
   "metadata": {
    "id": "k8DJmN06yak3",
    "colab_type": "code",
    "colab": {
     "base_uri": "https://localhost:8080/",
     "height": 295
    },
    "outputId": "82f5fc5a-b478-410e-eeb2-b09c4b72c979",
    "executionInfo": {
     "status": "ok",
     "timestamp": 1586416557302,
     "user_tz": -240,
     "elapsed": 2001,
     "user": {
      "displayName": "Hadelin de Ponteves",
      "photoUrl": "https://lh3.googleusercontent.com/a-/AOh14GhEuXdT7eQweUmRPW8_laJuPggSK6hfvpl5a6WBaA=s64",
      "userId": "15047218817161520419"
     }
    }
   },
   "source": [
    "plt.hist(ads_selected)\n",
    "plt.title('Histogram of ads selections', c='white')\n",
    "plt.xlabel('Ads', c='white')\n",
    "plt.ylabel('Number of times each ad was selected', c='white')\n",
    "plt.show()\n"
   ],
   "execution_count": 331,
   "outputs": [
    {
     "data": {
      "text/plain": "<Figure size 432x288 with 1 Axes>",
      "image/png": "[encoded data removed]"
     },
     "metadata": {
      "needs_background": "light"
     },
     "output_type": "display_data"
    }
   ]
  }
 ]
}